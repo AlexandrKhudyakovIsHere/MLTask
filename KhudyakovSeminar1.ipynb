{
 "cells": [
  {
   "cell_type": "markdown",
   "id": "6caef05f",
   "metadata": {},
   "source": [
    "# Jupiter notebook for the first seminar"
   ]
  },
  {
   "cell_type": "code",
   "execution_count": 8,
   "id": "cb06c891",
   "metadata": {},
   "outputs": [
    {
     "name": "stdout",
     "output_type": "stream",
     "text": [
      "[1 2 3 4 5]\n",
      "[5 4 3 2 1]\n"
     ]
    }
   ],
   "source": [
    "import math\n",
    "import numpy as np\n",
    "\n",
    "a = np.array([1,2,3,4,5])\n",
    "b = np.array([5,4,3,2,1])\n",
    "\n",
    "print(a)\n",
    "print(b)"
   ]
  },
  {
   "cell_type": "markdown",
   "id": "f52fb937",
   "metadata": {},
   "source": [
    "Task 1: compute half-products of a and b elements "
   ]
  },
  {
   "cell_type": "code",
   "execution_count": 9,
   "id": "af1886d8",
   "metadata": {},
   "outputs": [
    {
     "name": "stdout",
     "output_type": "stream",
     "text": [
      "a*b/2:  [2.5 4.  4.5 4.  2.5]\n"
     ]
    }
   ],
   "source": [
    "print(\"a*b/2: \", a*b/2)"
   ]
  },
  {
   "cell_type": "markdown",
   "id": "5e85c48d",
   "metadata": {},
   "source": [
    "Task 2: elementwise quotient between squared a and (b plus 1)"
   ]
  },
  {
   "cell_type": "code",
   "execution_count": 10,
   "id": "3d9b2fa1",
   "metadata": {},
   "outputs": [
    {
     "name": "stdout",
     "output_type": "stream",
     "text": [
      "a**2/(b+1):  [ 0.16666667  0.8         2.25        5.33333333 12.5       ]\n"
     ]
    }
   ],
   "source": [
    "print(\"a**2/(b+1): \", a**2/(b+1))"
   ]
  },
  {
   "cell_type": "markdown",
   "id": "de881667",
   "metadata": {},
   "source": [
    "Task 3: (7 x 5) matrix with e_ij = i"
   ]
  },
  {
   "cell_type": "code",
   "execution_count": 11,
   "id": "c73e6e21",
   "metadata": {},
   "outputs": [
    {
     "name": "stdout",
     "output_type": "stream",
     "text": [
      "[[0 0 0 0 0]\n",
      " [1 1 1 1 1]\n",
      " [2 2 2 2 2]\n",
      " [3 3 3 3 3]\n",
      " [4 4 4 4 4]\n",
      " [5 5 5 5 5]\n",
      " [6 6 6 6 6]]\n"
     ]
    }
   ],
   "source": [
    "e = np.arange(7)\n",
    "print(e[:,None] + np.zeros(shape=(7,5), dtype=int))"
   ]
  },
  {
   "cell_type": "code",
   "execution_count": 12,
   "id": "e3e1e976",
   "metadata": {},
   "outputs": [
    {
     "name": "stdout",
     "output_type": "stream",
     "text": [
      "--2021-09-30 17:17:41--  https://github.com/HSE-LAMBDA/MLatFIAN2021/raw/main/seminar01/train.csv\n",
      "Resolving github.com (github.com)... 140.82.121.3\n",
      "Connecting to github.com (github.com)|140.82.121.3|:443... connected.\n",
      "HTTP request sent, awaiting response... 302 Found\n",
      "Location: https://raw.githubusercontent.com/HSE-LAMBDA/MLatFIAN2021/main/seminar01/train.csv [following]\n",
      "--2021-09-30 17:17:41--  https://raw.githubusercontent.com/HSE-LAMBDA/MLatFIAN2021/main/seminar01/train.csv\n",
      "Resolving raw.githubusercontent.com (raw.githubusercontent.com)... 185.199.109.133, 185.199.110.133, 185.199.108.133, ...\n",
      "Connecting to raw.githubusercontent.com (raw.githubusercontent.com)|185.199.109.133|:443... connected.\n",
      "HTTP request sent, awaiting response... 200 OK\n",
      "Length: 60302 (59K) [text/plain]\n",
      "Saving to: ‘train.csv.5’\n",
      "\n",
      "train.csv.5         100%[===================>]  58.89K  --.-KB/s    in 0.04s   \n",
      "\n",
      "2021-09-30 17:17:41 (1.30 MB/s) - ‘train.csv.5’ saved [60302/60302]\n",
      "\n"
     ]
    }
   ],
   "source": [
    "!wget https://github.com/HSE-LAMBDA/MLatFIAN2021/raw/main/seminar01/train.csv"
   ]
  },
  {
   "cell_type": "markdown",
   "id": "b7870a05",
   "metadata": {},
   "source": [
    "Task 4: select passengers number 13 and 666 - did they survive?"
   ]
  },
  {
   "cell_type": "code",
   "execution_count": 13,
   "id": "dd3cea71",
   "metadata": {},
   "outputs": [
    {
     "name": "stdout",
     "output_type": "stream",
     "text": [
      "Passenger 13 did not survive\n",
      "Passenger 666 did not survive\n"
     ]
    }
   ],
   "source": [
    "import pandas as pd\n",
    "\n",
    "data = pd.read_csv(\"train.csv\", index_col='PassengerId')\n",
    "numbersOfPassengers = [13,666]\n",
    "unluckyPassengers = data[\"Survived\"].loc[numbersOfPassengers]\n",
    "for i in numbersOfPassengers:\n",
    "    if (unluckyPassengers.loc[i]):\n",
    "        print(\"Passenger \"+str(i)+\" survived\")\n",
    "    else:\n",
    "        print(\"Passenger \"+str(i)+\" did not survive\")"
   ]
  },
  {
   "cell_type": "code",
   "execution_count": 14,
   "id": "6699e03a",
   "metadata": {},
   "outputs": [],
   "source": [
    "data['Age'] = data['Age'].fillna(value=data['Age'].mean())\n",
    "data['Fare'] = data['Fare'].fillna(value=data['Fare'].mean())"
   ]
  },
  {
   "cell_type": "markdown",
   "id": "b9b4c901",
   "metadata": {},
   "source": [
    "Task 5: compute the overall survival rate"
   ]
  },
  {
   "cell_type": "code",
   "execution_count": 15,
   "id": "4a038dbe",
   "metadata": {},
   "outputs": [
    {
     "name": "stdout",
     "output_type": "stream",
     "text": [
      "Survival rate is  0.3838383838383838\n"
     ]
    }
   ],
   "source": [
    "infoAboutSurvivals = data[\"Survived\"]\n",
    "print(\"Survival rate is \", infoAboutSurvivals.mean())"
   ]
  },
  {
   "cell_type": "markdown",
   "id": "ba3e30e8",
   "metadata": {},
   "source": [
    "Task 6: compute mean passenger age and find the oldest guy on the ship"
   ]
  },
  {
   "cell_type": "code",
   "execution_count": 16,
   "id": "897cb8a2",
   "metadata": {},
   "outputs": [
    {
     "name": "stdout",
     "output_type": "stream",
     "text": [
      "Mean passenger age =  29.699117647058763\n",
      "The oldest guy on the ship:\n",
      "Survived                                       1\n",
      "Pclass                                         1\n",
      "Name        Barkworth, Mr. Algernon Henry Wilson\n",
      "Sex                                         male\n",
      "Age                                         80.0\n",
      "SibSp                                          0\n",
      "Parch                                          0\n",
      "Ticket                                     27042\n",
      "Fare                                        30.0\n",
      "Cabin                                        A23\n",
      "Embarked                                       S\n",
      "Name: 631, dtype: object\n"
     ]
    }
   ],
   "source": [
    "ageOfPassengers = data[\"Age\"]\n",
    "print(\"Mean passenger age = \", ageOfPassengers.mean())\n",
    "print(\"The oldest guy on the ship:\")\n",
    "print(data.loc[ageOfPassengers.idxmax()])"
   ]
  },
  {
   "cell_type": "markdown",
   "id": "1f4e31c0",
   "metadata": {},
   "source": [
    "Task 7: who on average paid more for their ticket, men or women?"
   ]
  },
  {
   "cell_type": "code",
   "execution_count": 17,
   "id": "5489d9a8",
   "metadata": {},
   "outputs": [
    {
     "name": "stdout",
     "output_type": "stream",
     "text": [
      "Men on average paid  25.523893414211418\n",
      "Women on average paid  44.47981783439487\n"
     ]
    }
   ],
   "source": [
    "menData = data.loc[(data[\"Sex\"]==\"male\")]\n",
    "womenData = data.loc[(data[\"Sex\"]==\"female\")]\n",
    "meanFareMen = menData[\"Fare\"].mean()\n",
    "meanFareWomen = womenData[\"Fare\"].mean()\n",
    "print(\"Men on average paid \", meanFareMen)\n",
    "print(\"Women on average paid \", meanFareWomen)"
   ]
  },
  {
   "cell_type": "markdown",
   "id": "12631b27",
   "metadata": {},
   "source": [
    "Task 8: who is more likely to survive: a child (<18 yo) or an adult?"
   ]
  },
  {
   "cell_type": "code",
   "execution_count": 18,
   "id": "8c137e67",
   "metadata": {},
   "outputs": [
    {
     "name": "stdout",
     "output_type": "stream",
     "text": [
      "Survivability of children:  0.5398230088495575\n",
      "Survivability of adults:  0.36118251928020567\n"
     ]
    }
   ],
   "source": [
    "childrenData = data.loc[(data[\"Age\"]<18)]\n",
    "adultData = data.loc[(data[\"Age\"]>=18)]\n",
    "print(\"Survivability of children: \", childrenData[\"Survived\"].mean())\n",
    "print(\"Survivability of adults: \", adultData[\"Survived\"].mean())"
   ]
  },
  {
   "cell_type": "code",
   "execution_count": 19,
   "id": "159ce3cd",
   "metadata": {},
   "outputs": [],
   "source": [
    "import matplotlib.pyplot as plt\n",
    "%matplotlib inline"
   ]
  },
  {
   "cell_type": "markdown",
   "id": "9ba6eabe",
   "metadata": {},
   "source": [
    "Task 9: plot a histogram of age and a histogram of ticket fares on separate plots"
   ]
  },
  {
   "cell_type": "code",
   "execution_count": 20,
   "id": "e6e377ea",
   "metadata": {},
   "outputs": [
    {
     "data": {
      "image/png": "[encoded data removed]",
      "text/plain": [
       "<Figure size 432x288 with 1 Axes>"
      ]
     },
     "metadata": {
      "needs_background": "light"
     },
     "output_type": "display_data"
    },
    {
     "data": {
      "image/png": "[encoded data removed]",
      "text/plain": [
       "<Figure size 432x288 with 1 Axes>"
      ]
     },
     "metadata": {
      "needs_background": "light"
     },
     "output_type": "display_data"
    }
   ],
   "source": [
    "binsForAge = np.linspace(0,80,21)\n",
    "plt.xlabel(\"Age of passenger\")\n",
    "plt.hist(data[\"Age\"],bins=binsForAge)\n",
    "plt.show()\n",
    "binsForFare = np.linspace(0,520,50)\n",
    "plt.xlabel(\"Cost of the ticket\")\n",
    "plt.hist(data[\"Fare\"],bins=binsForFare)\n",
    "plt.show()"
   ]
  },
  {
   "cell_type": "markdown",
   "id": "2842e061",
   "metadata": {},
   "source": [
    "Task 10: draw a 2D histogram of age vs fare"
   ]
  },
  {
   "cell_type": "code",
   "execution_count": 21,
   "id": "3012bf1e",
   "metadata": {},
   "outputs": [
    {
     "data": {
      "image/png": "[encoded data removed]",
      "text/plain": [
       "<Figure size 432x288 with 1 Axes>"
      ]
     },
     "metadata": {
      "needs_background": "light"
     },
     "output_type": "display_data"
    }
   ],
   "source": [
    "plt.xlabel(\"Age of passenger\")\n",
    "plt.ylabel(\"Cost of the ticket\")\n",
    "plt.hist2d(data[\"Age\"],data[\"Fare\"])\n",
    "plt.show()"
   ]
  },
  {
   "cell_type": "markdown",
   "id": "e0d29f16",
   "metadata": {},
   "source": [
    "Task 11: make a scatter plot of passenger age vs ticket fare"
   ]
  },
  {
   "cell_type": "code",
   "execution_count": 22,
   "id": "56f77be9",
   "metadata": {},
   "outputs": [
    {
     "data": {
      "image/png": "[encoded data removed]",
      "text/plain": [
       "<Figure size 432x288 with 1 Axes>"
      ]
     },
     "metadata": {
      "needs_background": "light"
     },
     "output_type": "display_data"
    }
   ],
   "source": [
    "plt.xlabel(\"Age of passenger\")\n",
    "plt.ylabel(\"Cost of the ticket\")\n",
    "plt.scatter(menData[\"Age\"], menData[\"Fare\"], c=\"blue\")\n",
    "plt.scatter(womenData[\"Age\"], womenData[\"Fare\"], c=\"pink\")\n",
    "plt.show()"
   ]
  },
  {
   "cell_type": "markdown",
   "id": "828312d1",
   "metadata": {},
   "source": [
    "Task 12: tune n_neighbors and add more features to achieve accuracy of at least 0.75"
   ]
  },
  {
   "cell_type": "code",
   "execution_count": 34,
   "id": "1e0b5639",
   "metadata": {},
   "outputs": [
    {
     "name": "stdout",
     "output_type": "stream",
     "text": [
      "Test accuracy: 0.78, is achieved at 3 neighbors\n"
     ]
    }
   ],
   "source": [
    "from sklearn.neighbors import KNeighborsClassifier\n",
    "from sklearn.metrics import accuracy_score\n",
    "\n",
    "artificialData = data.copy()\n",
    "artificialData.loc[(artificialData[\"Sex\"]==\"male\"),\"Sex\"]=1\n",
    "artificialData.loc[(artificialData[\"Sex\"]==\"female\"),\"Sex\"]=0\n",
    "\n",
    "features = artificialData[[\"Fare\",\"Age\",\"SibSp\",\"Sex\"]]\n",
    "answers = artificialData[\"Survived\"]\n",
    "\n",
    "accuracy = 0\n",
    "neededI = 0\n",
    "for i in range(1,101):\n",
    "    model = KNeighborsClassifier(n_neighbors=i)\n",
    "    model.fit(features[:-100], answers[:-100])\n",
    "    test_predictions = model.predict(features[-100:])\n",
    "    tempAccuracy = accuracy_score(answers[-100:], test_predictions)\n",
    "    if (tempAccuracy > accuracy):\n",
    "        neededI = i\n",
    "        accuracy = tempAccuracy\n",
    "\n",
    "print(\"Test accuracy: \", accuracy, \", is achieved at \", neededI, \" neighbors\",sep=\"\")"
   ]
  },
  {
   "cell_type": "code",
   "execution_count": null,
   "id": "b6462938",
   "metadata": {},
   "outputs": [],
   "source": []
  }
 ],
 "metadata": {
  "kernelspec": {
   "display_name": "Python 3",
   "language": "python",
   "name": "python3"
  },
  "language_info": {
   "codemirror_mode": {
    "name": "ipython",
    "version": 3
   },
   "file_extension": ".py",
   "mimetype": "text/x-python",
   "name": "python",
   "nbconvert_exporter": "python",
   "pygments_lexer": "ipython3",
   "version": "3.8.8"
  }
 },
 "nbformat": 4,
 "nbformat_minor": 5
}
