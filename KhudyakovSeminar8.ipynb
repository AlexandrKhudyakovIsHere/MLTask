{
  "nbformat": 4,
  "nbformat_minor": 0,
  "metadata": {
    "colab": {
      "name": "KhudyakovSeminar8.ipynb",
      "provenance": [],
      "collapsed_sections": []
    },
    "kernelspec": {
      "name": "python3",
      "display_name": "Python 3"
    },
    "language_info": {
      "name": "python"
    }
  },
  "cells": [
    {
      "cell_type": "markdown",
      "metadata": {
        "id": "63vMkYqFcLVo"
      },
      "source": [
        "# Jupiter notebook for the eighth seminar"
      ]
    },
    {
      "cell_type": "code",
      "metadata": {
        "id": "AeBFCQ3gOlPd"
      },
      "source": [
        "import numpy as np\n",
        "import matplotlib.pyplot as plt\n",
        "import pandas as pd\n",
        "from tqdm import trange, tqdm\n",
        "%config InlineBackend.figure_format = 'svg' \n",
        "from pylab import rcParams\n",
        "rcParams['figure.figsize'] = 8,5\n",
        "%matplotlib inline"
      ],
      "execution_count": null,
      "outputs": []
    },
    {
      "cell_type": "code",
      "metadata": {
        "colab": {
          "base_uri": "https://localhost:8080/"
        },
        "id": "XUmdiFE6PEzT",
        "outputId": "e5e4e68a-bbe4-4f8c-eaea-c179b1401b78"
      },
      "source": [
        "%tensorflow_version 2.x\n",
        "import tensorflow as tf\n",
        "import tensorflow_datasets as tfds\n",
        "print(\"Version of tensorflow:\",tf.__version__)\n",
        "import sys\n",
        "from IPython.display import clear_output"
      ],
      "execution_count": null,
      "outputs": [
        {
          "output_type": "stream",
          "name": "stdout",
          "text": [
            "Version of tensorflow: 2.7.0\n"
          ]
        }
      ]
    },
    {
      "cell_type": "code",
      "metadata": {
        "id": "spIKBde9Qgjs"
      },
      "source": [
        "# Downloading dataset\n",
        "data_train = tfds.load(name=\"fashion_mnist\", split=\"train\").prefetch(60000).cache()\n",
        "data_test  = tfds.load(name=\"fashion_mnist\", split=\"test\" ).prefetch(10000).cache()"
      ],
      "execution_count": null,
      "outputs": []
    },
    {
      "cell_type": "markdown",
      "metadata": {
        "id": "Hzc4IpUEcEKI"
      },
      "source": [
        "## Exercise 1"
      ]
    },
    {
      "cell_type": "markdown",
      "metadata": {
        "id": "F4aOWY3Zcf0A"
      },
      "source": [
        "Let's make a model with preprocessing part out of it:"
      ]
    },
    {
      "cell_type": "code",
      "metadata": {
        "id": "6iknK_NWcfRi"
      },
      "source": [
        "num_hidden = 64\n",
        "modelWithoutPreprocessing = tf.keras.Sequential([                                             \n",
        "  tf.keras.layers.Dense(num_hidden, activation='relu', name='hidden_layer'),\n",
        "  tf.keras.layers.Dense(10, name='output_layer')\n",
        "])"
      ],
      "execution_count": null,
      "outputs": []
    },
    {
      "cell_type": "code",
      "metadata": {
        "id": "Lzq2ntBocb9D"
      },
      "source": [
        "modelWithoutPreprocessing.compile(optimizer='adam',\n",
        "              loss=tf.losses.SparseCategoricalCrossentropy(from_logits=True),\n",
        "              metrics=[tf.metrics.SparseCategoricalAccuracy()])"
      ],
      "execution_count": null,
      "outputs": []
    },
    {
      "cell_type": "code",
      "metadata": {
        "id": "fDdKmh99doIV"
      },
      "source": [
        "def unwrap(x):\n",
        "  # Unwraps dataset to the appropriate form\n",
        "  return (x['image'], x['label'])\n",
        "\n",
        "def preprocessing(x):\n",
        "  # Function to put the preprocessing part out of the model\n",
        "  img = tf.reshape(tf.cast(x['image'], 'float32')/255., [-1, 28**2])\n",
        "  lbl = x['label']\n",
        "  return (img, lbl)"
      ],
      "execution_count": null,
      "outputs": []
    },
    {
      "cell_type": "code",
      "metadata": {
        "colab": {
          "base_uri": "https://localhost:8080/"
        },
        "id": "T5ZTQe8yeSNh",
        "outputId": "d1f5cbeb-7511-4b31-bbfb-a209fffb8889"
      },
      "source": [
        "batch_size = 1024\n",
        "num_epochs = 10\n",
        "modelWithoutPreprocessing.fit(x=data_train.shuffle(60000).batch(batch_size).map(preprocessing),\n",
        "          epochs=num_epochs,\n",
        "          validation_data=data_test.batch(4096).map(preprocessing))"
      ],
      "execution_count": null,
      "outputs": [
        {
          "output_type": "stream",
          "name": "stdout",
          "text": [
            "Epoch 1/10\n",
            "59/59 [==============================] - 1s 13ms/step - loss: 0.2934 - sparse_categorical_accuracy: 0.8959 - val_loss: 0.3648 - val_sparse_categorical_accuracy: 0.8728\n",
            "Epoch 2/10\n",
            "59/59 [==============================] - 1s 13ms/step - loss: 0.2906 - sparse_categorical_accuracy: 0.8962 - val_loss: 0.3679 - val_sparse_categorical_accuracy: 0.8730\n",
            "Epoch 3/10\n",
            "59/59 [==============================] - 1s 13ms/step - loss: 0.2888 - sparse_categorical_accuracy: 0.8977 - val_loss: 0.3567 - val_sparse_categorical_accuracy: 0.8755\n",
            "Epoch 4/10\n",
            "59/59 [==============================] - 1s 13ms/step - loss: 0.2842 - sparse_categorical_accuracy: 0.8991 - val_loss: 0.3569 - val_sparse_categorical_accuracy: 0.8749\n",
            "Epoch 5/10\n",
            "59/59 [==============================] - 1s 12ms/step - loss: 0.2828 - sparse_categorical_accuracy: 0.8992 - val_loss: 0.3592 - val_sparse_categorical_accuracy: 0.8762\n",
            "Epoch 6/10\n",
            "59/59 [==============================] - 1s 13ms/step - loss: 0.2795 - sparse_categorical_accuracy: 0.9010 - val_loss: 0.3549 - val_sparse_categorical_accuracy: 0.8763\n",
            "Epoch 7/10\n",
            "59/59 [==============================] - 1s 13ms/step - loss: 0.2755 - sparse_categorical_accuracy: 0.9018 - val_loss: 0.3552 - val_sparse_categorical_accuracy: 0.8759\n",
            "Epoch 8/10\n",
            "59/59 [==============================] - 1s 13ms/step - loss: 0.2732 - sparse_categorical_accuracy: 0.9020 - val_loss: 0.3568 - val_sparse_categorical_accuracy: 0.8747\n",
            "Epoch 9/10\n",
            "59/59 [==============================] - 1s 13ms/step - loss: 0.2723 - sparse_categorical_accuracy: 0.9027 - val_loss: 0.3546 - val_sparse_categorical_accuracy: 0.8749\n",
            "Epoch 10/10\n",
            "59/59 [==============================] - 1s 13ms/step - loss: 0.2693 - sparse_categorical_accuracy: 0.9042 - val_loss: 0.3554 - val_sparse_categorical_accuracy: 0.8745\n"
          ]
        },
        {
          "output_type": "execute_result",
          "data": {
            "text/plain": [
              "<keras.callbacks.History at 0x7fbe26203f10>"
            ]
          },
          "metadata": {},
          "execution_count": 51
        }
      ]
    },
    {
      "cell_type": "code",
      "metadata": {
        "colab": {
          "base_uri": "https://localhost:8080/"
        },
        "id": "Zvlm1lNHoQtt",
        "outputId": "697098b4-9505-4fb9-d6ef-f61387d32552"
      },
      "source": [
        "modelWithoutPreprocessing.summary()"
      ],
      "execution_count": null,
      "outputs": [
        {
          "output_type": "stream",
          "name": "stdout",
          "text": [
            "Model: \"sequential\"\n",
            "_________________________________________________________________\n",
            " Layer (type)                Output Shape              Param #   \n",
            "=================================================================\n",
            " hidden_layer (Dense)        (None, 1, 64)             50240     \n",
            "                                                                 \n",
            " output_layer (Dense)        (None, 1, 10)             650       \n",
            "                                                                 \n",
            "=================================================================\n",
            "Total params: 50,890\n",
            "Trainable params: 50,890\n",
            "Non-trainable params: 0\n",
            "_________________________________________________________________\n"
          ]
        }
      ]
    },
    {
      "cell_type": "markdown",
      "metadata": {
        "id": "cgOYAKbIoRQ9"
      },
      "source": [
        "## Exercise 2"
      ]
    },
    {
      "cell_type": "markdown",
      "metadata": {
        "id": "m17NYrznoXaX"
      },
      "source": [
        "Let's train a model with more layers:"
      ]
    },
    {
      "cell_type": "code",
      "metadata": {
        "id": "FjHsGyWFobey"
      },
      "source": [
        "num_first_hidden = 64\n",
        "num_second_hidden = 128\n",
        "num_third_hidden = 64\n",
        "modelWithMoreLayers = tf.keras.Sequential([\n",
        "  tf.keras.layers.Lambda(lambda x: tf.reshape(x / 255., (-1, 28*28)),\n",
        "      input_shape=(28, 28, 1), name='preprocessing'),                                   \n",
        "  tf.keras.layers.Dense(num_first_hidden, activation='relu', name='1st_hidden_layer'),\n",
        "  tf.keras.layers.Dense(num_second_hidden, activation='relu', name='2nd_hidden_layer'),\n",
        "  tf.keras.layers.Dense(num_third_hidden, activation='relu', name='3rd_hidden_layer'),\n",
        "  tf.keras.layers.Dense(10, name='output_layer')\n",
        "])"
      ],
      "execution_count": null,
      "outputs": []
    },
    {
      "cell_type": "code",
      "metadata": {
        "id": "aE5b2onqpLXD"
      },
      "source": [
        "modelWithMoreLayers.compile(optimizer='adam',\n",
        "              loss=tf.losses.SparseCategoricalCrossentropy(from_logits=True),\n",
        "              metrics=[tf.metrics.SparseCategoricalAccuracy()])"
      ],
      "execution_count": null,
      "outputs": []
    },
    {
      "cell_type": "code",
      "metadata": {
        "colab": {
          "base_uri": "https://localhost:8080/"
        },
        "id": "auuiUcRYpQIX",
        "outputId": "dc12d441-f8c2-4202-e213-94de211396be"
      },
      "source": [
        "batch_size = 1024\n",
        "num_epochs = 10\n",
        "modelWithMoreLayers.fit(x=data_train.map(unwrap).shuffle(60000).batch(batch_size),\n",
        "          epochs=num_epochs,\n",
        "          validation_data=data_test.map(unwrap).batch(4096))"
      ],
      "execution_count": null,
      "outputs": [
        {
          "output_type": "stream",
          "name": "stdout",
          "text": [
            "Epoch 1/10\n",
            "59/59 [==============================] - 2s 19ms/step - loss: 1.0110 - sparse_categorical_accuracy: 0.6520 - val_loss: 0.6040 - val_sparse_categorical_accuracy: 0.7761\n",
            "Epoch 2/10\n",
            "59/59 [==============================] - 1s 17ms/step - loss: 0.5147 - sparse_categorical_accuracy: 0.8205 - val_loss: 0.4971 - val_sparse_categorical_accuracy: 0.8234\n",
            "Epoch 3/10\n",
            "59/59 [==============================] - 1s 16ms/step - loss: 0.4398 - sparse_categorical_accuracy: 0.8457 - val_loss: 0.4535 - val_sparse_categorical_accuracy: 0.8375\n",
            "Epoch 4/10\n",
            "59/59 [==============================] - 1s 17ms/step - loss: 0.4082 - sparse_categorical_accuracy: 0.8555 - val_loss: 0.4292 - val_sparse_categorical_accuracy: 0.8458\n",
            "Epoch 5/10\n",
            "59/59 [==============================] - 1s 17ms/step - loss: 0.3857 - sparse_categorical_accuracy: 0.8634 - val_loss: 0.4153 - val_sparse_categorical_accuracy: 0.8520\n",
            "Epoch 6/10\n",
            "59/59 [==============================] - 1s 16ms/step - loss: 0.3677 - sparse_categorical_accuracy: 0.8691 - val_loss: 0.3938 - val_sparse_categorical_accuracy: 0.8590\n",
            "Epoch 7/10\n",
            "59/59 [==============================] - 1s 16ms/step - loss: 0.3507 - sparse_categorical_accuracy: 0.8755 - val_loss: 0.3891 - val_sparse_categorical_accuracy: 0.8627\n",
            "Epoch 8/10\n",
            "59/59 [==============================] - 1s 16ms/step - loss: 0.3435 - sparse_categorical_accuracy: 0.8770 - val_loss: 0.3850 - val_sparse_categorical_accuracy: 0.8630\n",
            "Epoch 9/10\n",
            "59/59 [==============================] - 1s 16ms/step - loss: 0.3276 - sparse_categorical_accuracy: 0.8819 - val_loss: 0.3692 - val_sparse_categorical_accuracy: 0.8673\n",
            "Epoch 10/10\n",
            "59/59 [==============================] - 1s 16ms/step - loss: 0.3171 - sparse_categorical_accuracy: 0.8854 - val_loss: 0.3663 - val_sparse_categorical_accuracy: 0.8690\n"
          ]
        },
        {
          "output_type": "execute_result",
          "data": {
            "text/plain": [
              "<keras.callbacks.History at 0x7fbe26be38d0>"
            ]
          },
          "metadata": {},
          "execution_count": 36
        }
      ]
    },
    {
      "cell_type": "code",
      "metadata": {
        "colab": {
          "base_uri": "https://localhost:8080/"
        },
        "id": "_YVmm9L4pXmk",
        "outputId": "f9212a2e-bbb1-4f41-965d-a0dbd0d51b39"
      },
      "source": [
        "modelWithMoreLayers.summary()"
      ],
      "execution_count": null,
      "outputs": [
        {
          "output_type": "stream",
          "name": "stdout",
          "text": [
            "Model: \"sequential_1\"\n",
            "_________________________________________________________________\n",
            " Layer (type)                Output Shape              Param #   \n",
            "=================================================================\n",
            " preprocessing (Lambda)      (None, 784)               0         \n",
            "                                                                 \n",
            " 1st_hidden_layer (Dense)    (None, 64)                50240     \n",
            "                                                                 \n",
            " 2nd_hidden_layer (Dense)    (None, 128)               8320      \n",
            "                                                                 \n",
            " 3rd_hidden_layer (Dense)    (None, 64)                8256      \n",
            "                                                                 \n",
            " output_layer (Dense)        (None, 10)                650       \n",
            "                                                                 \n",
            "=================================================================\n",
            "Total params: 67,466\n",
            "Trainable params: 67,466\n",
            "Non-trainable params: 0\n",
            "_________________________________________________________________\n"
          ]
        }
      ]
    }
  ]
}